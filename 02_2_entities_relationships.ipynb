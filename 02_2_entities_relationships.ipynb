{
 "cells": [
  {
   "cell_type": "code",
   "execution_count": 1216,
   "metadata": {},
   "outputs": [],
   "source": [
    "import matplotlib as mpl\n",
    "import matplotlib.pyplot as plt\n",
    "import pandas as pd\n",
    "import os\n",
    "import numpy as np"
   ]
  },
  {
   "cell_type": "code",
   "execution_count": 1217,
   "metadata": {},
   "outputs": [
    {
     "data": {
      "text/html": [
       "<div>\n",
       "<style scoped>\n",
       "    .dataframe tbody tr th:only-of-type {\n",
       "        vertical-align: middle;\n",
       "    }\n",
       "\n",
       "    .dataframe tbody tr th {\n",
       "        vertical-align: top;\n",
       "    }\n",
       "\n",
       "    .dataframe thead th {\n",
       "        text-align: right;\n",
       "    }\n",
       "</style>\n",
       "<table border=\"1\" class=\"dataframe\">\n",
       "  <thead>\n",
       "    <tr style=\"text-align: right;\">\n",
       "      <th></th>\n",
       "      <th>noticia</th>\n",
       "      <th>medio</th>\n",
       "      <th>autor</th>\n",
       "      <th>titulo</th>\n",
       "      <th>fecha</th>\n",
       "      <th>lugar</th>\n",
       "      <th>oracion</th>\n",
       "      <th>sustantivos</th>\n",
       "      <th>adjetivos</th>\n",
       "      <th>verbos</th>\n",
       "      <th>personas</th>\n",
       "      <th>organizaciones</th>\n",
       "      <th>lugares</th>\n",
       "      <th>fechas</th>\n",
       "      <th>geopoliticos</th>\n",
       "      <th>eventos</th>\n",
       "      <th>polaridad</th>\n",
       "      <th>subjetividad</th>\n",
       "    </tr>\n",
       "  </thead>\n",
       "  <tbody>\n",
       "    <tr>\n",
       "      <th>3</th>\n",
       "      <td>454.txt</td>\n",
       "      <td>News Online Today</td>\n",
       "      <td>NaN</td>\n",
       "      <td>LEADERSHIP CHANGE FOR PO</td>\n",
       "      <td>20090621</td>\n",
       "      <td>ABILA, Krono</td>\n",
       "      <td>Following the unexpected death of Elian Karel,...</td>\n",
       "      <td>death,leadership,role</td>\n",
       "      <td>unexpected</td>\n",
       "      <td>follow,take</td>\n",
       "      <td>Elian Karel,Silvia Marek</td>\n",
       "      <td>Kronos</td>\n",
       "      <td>NaN</td>\n",
       "      <td>NaN</td>\n",
       "      <td>NaN</td>\n",
       "      <td>NaN</td>\n",
       "      <td>0.050000</td>\n",
       "      <td>0.550000</td>\n",
       "    </tr>\n",
       "    <tr>\n",
       "      <th>4</th>\n",
       "      <td>454.txt</td>\n",
       "      <td>News Online Today</td>\n",
       "      <td>NaN</td>\n",
       "      <td>LEADERSHIP CHANGE FOR PO</td>\n",
       "      <td>20090621</td>\n",
       "      <td>ABILA, Krono</td>\n",
       "      <td>Elian Karel died while in police custody on 19...</td>\n",
       "      <td>police,custody</td>\n",
       "      <td>NaN</td>\n",
       "      <td>die</td>\n",
       "      <td>Elian Karel</td>\n",
       "      <td>NaN</td>\n",
       "      <td>NaN</td>\n",
       "      <td>19 June</td>\n",
       "      <td>NaN</td>\n",
       "      <td>NaN</td>\n",
       "      <td>0.000000</td>\n",
       "      <td>0.000000</td>\n",
       "    </tr>\n",
       "    <tr>\n",
       "      <th>10</th>\n",
       "      <td>544.txt</td>\n",
       "      <td>News Online Today</td>\n",
       "      <td>NaN</td>\n",
       "      <td>Activists Disrupt Traffic Near Tiskele Bend Fi...</td>\n",
       "      <td>20010831</td>\n",
       "      <td>ABILA, Kronos</td>\n",
       "      <td>The protestors, members of the activist group ...</td>\n",
       "      <td>protestor,member,activist,group,sign,water,yea...</td>\n",
       "      <td>old</td>\n",
       "      <td>hold,read,drill,poison,remember,become</td>\n",
       "      <td>Juliana,Juliana Vann</td>\n",
       "      <td>Protectors of Kronos,the Protectors of Kronos</td>\n",
       "      <td>NaN</td>\n",
       "      <td>10 year old,1998</td>\n",
       "      <td>NaN</td>\n",
       "      <td>NaN</td>\n",
       "      <td>0.100000</td>\n",
       "      <td>0.200000</td>\n",
       "    </tr>\n",
       "    <tr>\n",
       "      <th>11</th>\n",
       "      <td>410.txt</td>\n",
       "      <td>News Online Today</td>\n",
       "      <td>NaN</td>\n",
       "      <td>LANDSLIDE VICTORY FOR PRESIDENT KAPELOU</td>\n",
       "      <td>20001002</td>\n",
       "      <td>ABILA, Kronos</td>\n",
       "      <td>The people of Kronos have overwhelmingly elect...</td>\n",
       "      <td>people</td>\n",
       "      <td>new</td>\n",
       "      <td>elect</td>\n",
       "      <td>Dorel Kapelou II</td>\n",
       "      <td>NaN</td>\n",
       "      <td>NaN</td>\n",
       "      <td>NaN</td>\n",
       "      <td>Kronos</td>\n",
       "      <td>NaN</td>\n",
       "      <td>0.318182</td>\n",
       "      <td>0.727273</td>\n",
       "    </tr>\n",
       "    <tr>\n",
       "      <th>12</th>\n",
       "      <td>410.txt</td>\n",
       "      <td>News Online Today</td>\n",
       "      <td>NaN</td>\n",
       "      <td>LANDSLIDE VICTORY FOR PRESIDENT KAPELOU</td>\n",
       "      <td>20001002</td>\n",
       "      <td>ABILA, Kronos</td>\n",
       "      <td>Former President Luis Araullo conceded defeat ...</td>\n",
       "      <td>defeat,yesterday,return</td>\n",
       "      <td>former,early,strong</td>\n",
       "      <td>concede,come</td>\n",
       "      <td>Luis Araullo,Kapelou II</td>\n",
       "      <td>NaN</td>\n",
       "      <td>NaN</td>\n",
       "      <td>yesterday</td>\n",
       "      <td>NaN</td>\n",
       "      <td>NaN</td>\n",
       "      <td>0.177778</td>\n",
       "      <td>0.344444</td>\n",
       "    </tr>\n",
       "  </tbody>\n",
       "</table>\n",
       "</div>"
      ],
      "text/plain": [
       "    noticia              medio autor  \\\n",
       "3   454.txt  News Online Today   NaN   \n",
       "4   454.txt  News Online Today   NaN   \n",
       "10  544.txt  News Online Today   NaN   \n",
       "11  410.txt  News Online Today   NaN   \n",
       "12  410.txt  News Online Today   NaN   \n",
       "\n",
       "                                               titulo     fecha  \\\n",
       "3                            LEADERSHIP CHANGE FOR PO  20090621   \n",
       "4                            LEADERSHIP CHANGE FOR PO  20090621   \n",
       "10  Activists Disrupt Traffic Near Tiskele Bend Fi...  20010831   \n",
       "11            LANDSLIDE VICTORY FOR PRESIDENT KAPELOU  20001002   \n",
       "12            LANDSLIDE VICTORY FOR PRESIDENT KAPELOU  20001002   \n",
       "\n",
       "            lugar                                            oracion  \\\n",
       "3    ABILA, Krono  Following the unexpected death of Elian Karel,...   \n",
       "4    ABILA, Krono  Elian Karel died while in police custody on 19...   \n",
       "10  ABILA, Kronos  The protestors, members of the activist group ...   \n",
       "11  ABILA, Kronos  The people of Kronos have overwhelmingly elect...   \n",
       "12  ABILA, Kronos  Former President Luis Araullo conceded defeat ...   \n",
       "\n",
       "                                          sustantivos            adjetivos  \\\n",
       "3                               death,leadership,role           unexpected   \n",
       "4                                      police,custody                  NaN   \n",
       "10  protestor,member,activist,group,sign,water,yea...                  old   \n",
       "11                                             people                  new   \n",
       "12                            defeat,yesterday,return  former,early,strong   \n",
       "\n",
       "                                    verbos                  personas  \\\n",
       "3                              follow,take  Elian Karel,Silvia Marek   \n",
       "4                                      die               Elian Karel   \n",
       "10  hold,read,drill,poison,remember,become      Juliana,Juliana Vann   \n",
       "11                                   elect          Dorel Kapelou II   \n",
       "12                            concede,come   Luis Araullo,Kapelou II   \n",
       "\n",
       "                                   organizaciones lugares            fechas  \\\n",
       "3                                          Kronos     NaN               NaN   \n",
       "4                                             NaN     NaN           19 June   \n",
       "10  Protectors of Kronos,the Protectors of Kronos     NaN  10 year old,1998   \n",
       "11                                            NaN     NaN               NaN   \n",
       "12                                            NaN     NaN         yesterday   \n",
       "\n",
       "   geopoliticos eventos  polaridad  subjetividad  \n",
       "3           NaN     NaN   0.050000      0.550000  \n",
       "4           NaN     NaN   0.000000      0.000000  \n",
       "10          NaN     NaN   0.100000      0.200000  \n",
       "11       Kronos     NaN   0.318182      0.727273  \n",
       "12          NaN     NaN   0.177778      0.344444  "
      ]
     },
     "execution_count": 1217,
     "metadata": {},
     "output_type": "execute_result"
    }
   ],
   "source": [
    "oraciones = pd.read_csv(\"data/oraciones.csv\")\n",
    "oraciones = oraciones[oraciones.personas.notnull()]\n",
    "oraciones.head()"
   ]
  },
  {
   "cell_type": "code",
   "execution_count": 1218,
   "metadata": {},
   "outputs": [],
   "source": [
    "def long_df(columna_long, df): \n",
    "    df_long = pd.concat([df.loc[:, df.columns != columna_long],\n",
    "                       df[columna_long].str.split(\",\", expand = True)], axis = 1)\n",
    "    df_long=pd.melt(df_long, id_vars = [x for x in df.columns if x != columna_long],\n",
    "                   value_name = columna_long)\n",
    "    return df_long"
   ]
  },
  {
   "cell_type": "code",
   "execution_count": 1219,
   "metadata": {},
   "outputs": [],
   "source": [
    "sustantivos_long = long_df(\"sustantivos\",oraciones[[\"fecha\",\"noticia\", \"sustantivos\"]])\n",
    "sustantivos_long=sustantivos_long.loc[:, sustantivos_long.columns != 'variable']\n",
    "sustantivos_long=sustantivos_long[sustantivos_long[\"sustantivos\"].notnull()]\n",
    "sustantivos_long=sustantivos_long.drop_duplicates().sort_values(\"fecha\").reset_index()\n",
    "personas_long = long_df(\"personas\",oraciones[[\"fecha\",\"noticia\", \"personas\"]])\n",
    "personas_long=personas_long.loc[:, personas_long.columns != 'variable']\n",
    "personas_long = personas_long[personas_long[\"personas\"].notnull()]\n",
    "personas_long[\"fl_fullname\"] = personas_long.personas.str.contains(\" \")\n",
    "personas_long=personas_long[personas_long.fl_fullname==True]\n",
    "personas_long=personas_long.drop([\"fl_fullname\"], axis = 1)\n",
    "personas_long = personas_long.drop_duplicates().sort_values(\"fecha\").reset_index()"
   ]
  },
  {
   "cell_type": "code",
   "execution_count": null,
   "metadata": {},
   "outputs": [],
   "source": [
    "employees = pd.read_excel(\"data/EmployeeRecords.xlsx\")\n",
    "employees[\"full_name\"] = employees[\"FirstName\"] + \" \" + employees[\"LastName\"]"
   ]
  },
  {
   "cell_type": "code",
   "execution_count": null,
   "metadata": {},
   "outputs": [],
   "source": [
    "empleados_filtrados = pd.DataFrame()\n",
    "for index, row in employees.iterrows():\n",
    "    df_sub = oraciones[oraciones['personas'].str.contains(row['full_name'])]\n",
    "    empleados_filtrados=empleados_filtrados.append(df_sub)"
   ]
  },
  {
   "cell_type": "code",
   "execution_count": null,
   "metadata": {},
   "outputs": [],
   "source": [
    "entidades = pd.read_csv(\"data/entidades.csv\", header=None)\n",
    "entidades.columns = [\"entidades\"]"
   ]
  },
  {
   "cell_type": "code",
   "execution_count": null,
   "metadata": {},
   "outputs": [],
   "source": [
    "oraciones_filtradas = pd.DataFrame()\n",
    "for index, row in entidades.iterrows():\n",
    "    df_sub = oraciones[oraciones['personas'].str.contains(row['entidades'])]\n",
    "    oraciones_filtradas=oraciones_filtradas.append(df_sub)"
   ]
  },
  {
   "cell_type": "code",
   "execution_count": null,
   "metadata": {},
   "outputs": [],
   "source": [
    "df = empleados_filtrados.append(oraciones_filtradas).drop_duplicates().sort_values('fecha')\n",
    "df[\"cant_personas\"] = df.personas.str.count(\",\") +1\n",
    "df.to_csv(\"data/noticias_filtradas_entidades.csv\", index = False)"
   ]
  },
  {
   "cell_type": "markdown",
   "metadata": {},
   "source": [
    "#### Analisis de relaciones"
   ]
  },
  {
   "cell_type": "code",
   "execution_count": null,
   "metadata": {
    "scrolled": false
   },
   "outputs": [],
   "source": [
    "df_editado = df[df.cant_personas>1][[\"noticia\",\"fecha\",\"oracion\", \"sustantivos\",\"personas\", \"organizaciones\",\"cant_personas\"]]\n",
    "df_editado[\"personas\"] = df_editado[\"personas\"].str.replace(\"Elian Karel de Kronos,\", \"Elian Karel,\")\n",
    "df_editado[\"personas\"] = df_editado[\"personas\"].str.replace(\"ABILA\", \"Abila\")\n",
    "df_editado[\"personas\"] = df_editado[\"personas\"].str.replace(\".\", \"\")\n",
    "df_editado[\"personas\"] = df_editado[\"personas\"].str.replace(\"'s\", \"\")\n",
    "df_editado[\"personas\"] = df_editado[\"personas\"].str.replace(\"'\", \"\")\n",
    "df_editado[\"personas\"] = df_editado[\"personas\"].str.replace(\"Ada Campo-Corren,\", \"Ada Campo-Corrente,\")\n",
    "df_editado[\"personas\"] = df_editado[\"personas\"].str.replace(\"Ada campo-Corrente,\", \"Ada Campo-Corrente,\")\n",
    "df_editado[\"personas\"] = df_editado[\"personas\"].str.replace(\"the Hank Fluss\",\"Hank Fluss\")\n",
    "df_editado[\"personas\"] = df_editado[\"personas\"].str.replace(\"the Orhan Strum\", \"Orhan Strum\")\n",
    "df_editado[\"personas\"] = df_editado[\"personas\"].str.replace(\"Jeroen,\",\"Jeroen Karel,\")\n",
    "df_editado[\"personas\"] = df_editado[\"personas\"].str.replace(\"Elian,\",\"Elian Karel,\")\n",
    "df_editado[\"personas\"] = df_editado[\"personas\"].str.replace(\",Elian\",\",Elian Karel\")\n",
    "df_editado[\"personas\"] = df_editado[\"personas\"].str.replace(\",Elian Karel Karel\",\",Elian Karel\")\n",
    "df_editado[\"personas\"] = df_editado[\"personas\"].str.replace(\"Karel,Jeroen Karel\", \"Elian Karel,Jeroen Karel\")\n",
    "df_editado[\"personas\"] = df_editado[\"personas\"].str.replace(\"Juliana,\", \"Juliana Vann,\")\n",
    "df_editado[\"personas\"] = df_editado[\"personas\"].str.replace(\",Fluss\", \",Hank Fluss\")\n",
    "df_editado[\"personas\"] = df_editado[\"personas\"].str.replace(\"Sr-,\", \"Sr,\")\n",
    "df_editado[\"personas\"] = df_editado[\"personas\"].str.replace(\"Cato,\",\"Rebecca Cato,\")\n",
    "df_editado[\"personas\"] = df_editado[\"personas\"].str.replace(\",Sanjorge Jr,\", \",Sanjorge Jr,\")\n",
    "df_editado[\"personas\"] = df_editado[\"personas\"].str.replace(\",Sten Jr.,\", \",Sanjorge Jr,\")\n",
    "df_editado[\"personas\"] = df_editado[\"personas\"].str.replace(\",Sanjorge Jr.'s,\", \",Sanjorge Jr,\")\n",
    "df_editado[\"personas\"] = df_editado[\"personas\"].str.replace(\",Sten Sanjorge Jr.,\", \",Sanjorge Jr,\")\n",
    "df_editado[\"personas\"] = df_editado[\"personas\"].str.replace(\",Strum\", \",Orhan Strum\")\n",
    "df_editado[\"personas\"] = df_editado[\"personas\"].str.replace(\"Marek,\",\"Silvia Marek,\") ### esta tiene que cambiarse\n",
    "df_editado[\"personas\"] = df_editado[\"personas\"].str.replace(\"Silvia Silvia Marek,\",\"Silvia Marek,\") ### esta tiene que cambiarse\n",
    "df_editado[\"personas\"] = df_editado[\"personas\"].str.replace(\"Reese\", \"Pondo Reese\")\n",
    "df_editado[\"personas\"] = df_editado[\"personas\"].str.replace(\"Kronosian\", \"\")\n",
    "df_editado[\"personas\"] = df_editado[\"personas\"].str.replace(\"Ingrid Barranca\",\"Ingrid Barranco\")\n",
    "df_editado[\"personas\"] = df_editado[\"personas\"].str.replace(\"Ingrid Sanjorge\",\"Ingrid Barranco\")\n",
    "df_editado[\"personas\"] = df_editado[\"personas\"].str.replace(\"Julian,\", \"Juliana Vann,\")\n",
    "df_editado[\"personas\"] = df_editado[\"personas\"].str.replace(\"Reynolds\", \"Joclyn Reynolds\")\n",
    "df_editado[\"personas\"] = df_editado[\"personas\"].str.replace(\"Lagos,\", \"Linda Lagos,\")\n",
    "df_editado[\"personas\"] = df_editado[\"personas\"].str.replace(\"Linda Linda Lagos,\", \"Linda Lagos,\")\n",
    "df_editado[\"organizaciones\"] = [\"POK\" if \"POK\" in pers else pers for pers in df_editado[\"personas\"]]\n",
    "df_editado[\"personas\"] = df_editado[\"personas\"].str.replace(\"POK\",\"\")\n",
    "df_editado[\"personas\"] = df_editado[\"personas\"].str.replace(\"Karel\\x92s\",\"\")\n",
    "df_editado[\"personas\"] = df_editado[\"personas\"].str.replace(\"Elodis\",\"\")\n",
    "df_editado[\"personas\"] = df_editado[\"personas\"].str.replace(\",Campo-Corrente\", \",Ada Campo-Corrente\")\n",
    "df_editado[\"personas\"] = df_editado[\"personas\"].str.replace(\",Cato\", \",Rebecca Cato\")\n",
    "df_editado[\"personas\"] = df_editado[\"personas\"].str.replace(\"Osvaldo,\", \"Carmine Osvaldo,\")\n",
    "df_editado[\"personas\"] = df_editado[\"personas\"].str.replace(\"Nespola,\",\"Cesare Nespola,\")\n",
    "df_editado[\"personas\"] = df_editado[\"personas\"].str.replace(\"Sten Sanjorge, Jr,\",\"Sanjorge Jr,\")\n",
    "df_editado[\"personas\"] = df_editado[\"personas\"].str.replace(\"Sten Sanjorge Jr,\",\"Sanjorge Jr,\")\n",
    "df_editado[\"personas\"] = df_editado[\"personas\"].str.replace(\"Sten Sanjorge Sr,\",\"Sanjorge Sr,\")\n",
    "df_editado[\"personas\"] = df_editado[\"personas\"].str.replace(\",Sten Sanjorge Jr\",\",Sanjorge Jr\")\n",
    "df_editado[\"personas\"] = df_editado[\"personas\"].str.replace(\"Sten Sanjorge, Sr,\",\"Sanjorge Sr,\")\n",
    "df_editado[\"personas\"] = df_editado[\"personas\"].str.replace(\",Sten Sanjorge, Sr\",\",Sanjorge Sr\")\n",
    "df_editado[\"personas\"] = df_editado[\"personas\"].str.replace(\"Sanjorge,Sten Jr,\",\"Sanjorge Jr,\")\n",
    "df_editado[\"personas\"] = df_editado[\"personas\"].str.replace(\"Silvia Marek,Karel\",\"Silvia Marek\")\n",
    "df_editado[\"personas\"] = df_editado[\"personas\"].str.replace(\"Elian Karel,Elian Karel,Juliana\",\n",
    "                                                            \"Elian Karel, Juliana Vann\")\n",
    "df_editado[\"personas\"] = df_editado[\"personas\"].str.replace(\"Elian Karel,Juliana Vann,Silvia Marek,Juliana\",\n",
    "                                                            \"Elian Karel,Juliana Vann,Silvia Marek\")\n",
    "df_editado[\"personas\"] = df_editado[\"personas\"].str.replace(\"Juliana Vann Vann\", \"Juliana Vann\")\n",
    "df_editado[\"personas\"] = df_editado[\"personas\"].str.replace(\" Juliana Vann\", \"Juliana Vann\")\n",
    "df_editado[\"personas\"] = [\"Hank Fluss,Sanjorge Jr\" if pers==\"Sanjorge,Hank Fluss, Jr\" else pers for pers in df_editado[\"personas\"]]\n",
    "df_editado[\"personas\"] = [\"Beatriz Fluss,Hank Fluss,Sanjorge Jr\" if pers==\"Jr,Sanjorge,Beatriz Fluss,Hank Fluss\" else pers for pers in df_editado[\"personas\"]]\n",
    "df_editado[\"personas\"] = [\"Elian Karel,Sanjorge Jr\" if pers==\"Sanjorge Jr,Karel,Sanjorge\" else pers for pers in df_editado[\"personas\"]]\n",
    "df_editado[\"personas\"] = [\"Hank Fluss,Sanjorge Sr\" if pers==\"Sanjorge,Hank Fluss\" else pers for pers in df_editado[\"personas\"]]\n",
    "#df_editado[\"personas\"] = [\"Hank Fluss,Sanjorge Sr\" if pers==\"Sanjorge,Hank Fluss\" else pers for pers in df_editado[\"personas\"]]\n",
    "#df_editado[\"personas\"] = [\"Hank Fluss,Sanjorge Sr\" if pers==\"Sanjorge,Hank Fluss\" else pers for pers in df_editado[\"personas\"]]\n",
    "#df_editado[\"personas\"] = [\"Hank Fluss,Sanjorge Sr\" if pers==\"Sanjorge,Hank Fluss\" else pers for pers in df_editado[\"personas\"]]\n",
    "\n"
   ]
  },
  {
   "cell_type": "code",
   "execution_count": null,
   "metadata": {},
   "outputs": [],
   "source": [
    "df_editado.head()"
   ]
  },
  {
   "cell_type": "code",
   "execution_count": null,
   "metadata": {
    "scrolled": true
   },
   "outputs": [],
   "source": [
    "personas = df_editado[\"personas\"].str.split(\",\", expand=True)\n",
    "df_editado = pd.merge(df_editado, personas, left_index=True, right_index=True)"
   ]
  },
  {
   "cell_type": "code",
   "execution_count": null,
   "metadata": {
    "scrolled": true
   },
   "outputs": [],
   "source": [
    "personas_unicas = []\n",
    "for index, row in personas.iterrows():\n",
    "    [personas_unicas.append(r) for r in row if r is not None]"
   ]
  },
  {
   "cell_type": "code",
   "execution_count": null,
   "metadata": {
    "scrolled": true
   },
   "outputs": [],
   "source": [
    "personas_unicas.sort()\n",
    "set(personas_unicas)"
   ]
  },
  {
   "cell_type": "code",
   "execution_count": null,
   "metadata": {},
   "outputs": [],
   "source": [
    "df_editado[df_editado[[\"noticia\", 0,1,2,3,4,5]].isin([\"Sanjorge\"]).any(axis = 1)]"
   ]
  },
  {
   "cell_type": "code",
   "execution_count": null,
   "metadata": {},
   "outputs": [],
   "source": []
  }
 ],
 "metadata": {
  "kernelspec": {
   "display_name": "Python 3.8.3 64-bit ('base': conda)",
   "language": "python",
   "name": "python383jvsc74a57bd016cc685a692c52b16f902c0dfd151e07e9488e1f6f87e99a158b180d41a2f4b3"
  },
  "language_info": {
   "codemirror_mode": {
    "name": "ipython",
    "version": 3
   },
   "file_extension": ".py",
   "mimetype": "text/x-python",
   "name": "python",
   "nbconvert_exporter": "python",
   "pygments_lexer": "ipython3",
   "version": "3.8.3"
  }
 },
 "nbformat": 4,
 "nbformat_minor": 4
}
