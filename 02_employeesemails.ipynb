{
 "metadata": {
  "language_info": {
   "codemirror_mode": {
    "name": "ipython",
    "version": 3
   },
   "file_extension": ".py",
   "mimetype": "text/x-python",
   "name": "python",
   "nbconvert_exporter": "python",
   "pygments_lexer": "ipython3",
   "version": "3.8.3"
  },
  "orig_nbformat": 2,
  "kernelspec": {
   "name": "python383jvsc74a57bd016cc685a692c52b16f902c0dfd151e07e9488e1f6f87e99a158b180d41a2f4b3",
   "display_name": "Python 3.8.3 64-bit ('base': conda)"
  },
  "metadata": {
   "interpreter": {
    "hash": "16cc685a692c52b16f902c0dfd151e07e9488e1f6f87e99a158b180d41a2f4b3"
   }
  }
 },
 "nbformat": 4,
 "nbformat_minor": 2,
 "cells": [
  {
   "cell_type": "code",
   "execution_count": 68,
   "metadata": {},
   "outputs": [],
   "source": [
    "import pandas as pd\n",
    "import networkx as nx\n",
    "import igraph as ig\n",
    "import matplotlib as mpl\n",
    "import matplotlib.pyplot as plt\n",
    "import os"
   ]
  },
  {
   "cell_type": "code",
   "execution_count": 69,
   "metadata": {},
   "outputs": [],
   "source": [
    "df = pd.read_csv(\"data/email headers.csv\", sep=\",\", encoding=\"cp1252\")"
   ]
  },
  {
   "cell_type": "code",
   "execution_count": 70,
   "metadata": {},
   "outputs": [],
   "source": [
    "#armar un nuevo df\n",
    "long_df=pd.DataFrame(data = {\"from\": [],\n",
    "                            \"to\":[],\n",
    "                            \"date\":[],\n",
    "                            \"subject\":[]})"
   ]
  },
  {
   "cell_type": "code",
   "execution_count": 71,
   "metadata": {
    "tags": []
   },
   "outputs": [],
   "source": [
    "#Para cada from, \n",
    "for f in range(0,len(df[\"From\"])):\n",
    "    # ver a cuantos les mando\n",
    "    to_array = df[\"To\"][f].split(\", \")\n",
    "    # y replicar el resto de los datos\n",
    "    for t in to_array:\n",
    "        single_df = pd.DataFrame(data = {\"from\": df[\"From\"][f],\n",
    "            \"to\": t,\n",
    "            \"date\": df[\"Date\"][f],\n",
    "            \"subject\":df[\"Subject\"][f]\n",
    "        },index = [0])\n",
    "        long_df=long_df.append(single_df, ignore_index = True)"
   ]
  },
  {
   "cell_type": "code",
   "execution_count": 73,
   "metadata": {},
   "outputs": [],
   "source": [
    "long_df.to_csv(\"data/employee_headers_long.csv\", index = False)"
   ]
  }
 ]
}